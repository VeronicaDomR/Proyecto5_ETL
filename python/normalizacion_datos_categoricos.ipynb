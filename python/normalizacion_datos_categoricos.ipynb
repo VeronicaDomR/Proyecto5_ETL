{
 "cells": [
  {
   "cell_type": "code",
   "execution_count": 6,
   "metadata": {},
   "outputs": [],
   "source": [
    "# Importar las librerías necesarias\n",
    "import pandas as pd\n",
    "\n",
    "# Cargar los datos de un archivo CSV\n",
    "\n",
    "df_superstore = pd.read_csv('C:/Users/ljgov/Documents/LABORATORIA/PROYECTO_ETL/superstore.csv')\n"
   ]
  },
  {
   "cell_type": "code",
   "execution_count": 7,
   "metadata": {},
   "outputs": [
    {
     "name": "stdout",
     "output_type": "stream",
     "text": [
      "          category         city        country customer_ID  order_priority  \\\n",
      "0        Furniture  Los Angeles  UNITED STATES   LS-172304               3   \n",
      "1  Office Supplies  Los Angeles  UNITED STATES   MV-174584               2   \n",
      "2       Technology  Los Angeles  UNITED STATES   CS-123104               1   \n",
      "3        Furniture  Los Angeles  UNITED STATES   AP-109154               2   \n",
      "\n",
      "  market  order_date region   ship_date  category_code  order_year  \\\n",
      "0     US  2011-01-07   West  2011-01-09              1        2011   \n",
      "1     US  2011-01-08   West  2011-01-10              2        2011   \n",
      "2     US  2011-01-09   West  2011-01-11              3        2011   \n",
      "3     US  2011-01-10   West  2011-01-12              1        2011   \n",
      "\n",
      "   order_month  order_day  ship_year  ship_month  ship_day  \n",
      "0            1          7       2011           1         9  \n",
      "1            1          8       2011           1        10  \n",
      "2            1          9       2011           1        11  \n",
      "3            1         10       2011           1        12  \n"
     ]
    },
    {
     "name": "stderr",
     "output_type": "stream",
     "text": [
      "C:\\Users\\ljgov\\AppData\\Local\\Temp\\ipykernel_25420\\1767030797.py:28: FutureWarning: Downcasting behavior in `replace` is deprecated and will be removed in a future version. To retain the old behavior, explicitly call `result.infer_objects(copy=False)`. To opt-in to the future behavior, set `pd.set_option('future.no_silent_downcasting', True)`\n",
      "  df['order_priority'] = df['order_priority'].replace({\n"
     ]
    }
   ],
   "source": [
    "\n",
    "# Ejemplo de datos iniciales\n",
    "data = {\n",
    "    'category': ['Furniture', 'Office Supplies', 'Technology', 'furniture'],\n",
    "    'city': ['Los Angeles', 'Los Angeles', 'los angeles', 'Los Angeles'],\n",
    "    'country': ['United States', 'US', 'U.S.', 'United States'],\n",
    "    'customer_ID': ['LS-172304', 'MV-174584', 'CS-123104', 'AP-109154'],\n",
    "    'order_priority': ['High', 'Medium', 'Low', 'medium'],\n",
    "    'market': ['US', 'US', 'US', 'US'],\n",
    "    'order_date': ['7/01/2011 0:00:00', '8/01/2011 0:00:00', '9/01/2011 0:00:00', '10/01/2011 0:00:00'],\n",
    "    'region': ['West', 'West', 'west', 'West'],\n",
    "    'ship_date': ['9/01/2011 0:00:00', '10/01/2011 0:00:00', '11/01/2011 0:00:00', '12/01/2011 0:00:00']\n",
    "}\n",
    "\n",
    "df = pd.DataFrame(data)\n",
    "\n",
    "# 1. Estandarización de textos\n",
    "df['category'] = df['category'].str.title()  # Establecer formato título (ej. 'Furniture')\n",
    "df['city'] = df['city'].str.title()  # Convertir el nombre de la ciudad en formato título\n",
    "df['country'] = df['country'].str.upper()  # Convertir el nombre del país a mayúsculas\n",
    "df['order_priority'] = df['order_priority'].str.capitalize()  # Convertir a formato título\n",
    "df['region'] = df['region'].str.title()  # Convertir la región en formato título\n",
    "\n",
    "# 2. Corrección de errores tipográficos y normalización\n",
    "# Normalizar la columna 'country'\n",
    "df['country'] = df['country'].replace(['US', 'U.S.'], 'UNITED STATES')\n",
    "\n",
    "# Normalizar la columna 'order_priority'\n",
    "df['order_priority'] = df['order_priority'].replace({\n",
    "    'Critical': 4,\n",
    "    'High': 3, \n",
    "    'Medium': 2, \n",
    "    'Low': 1\n",
    "})\n",
    "\n",
    "# 3. Codificación de variables categóricas\n",
    "# Normalizar 'category'\n",
    "category_mapping = {\n",
    "    'Furniture': 1,\n",
    "    'Office Supplies': 2,\n",
    "    'Technology': 3\n",
    "}\n",
    "df['category_code'] = df['category'].map(category_mapping)\n",
    "\n",
    "# 4. Conversión de las columnas de fecha al formato de fecha estándar\n",
    "df['order_date'] = pd.to_datetime(df['order_date'], format='%d/%m/%Y %H:%M:%S')\n",
    "df['ship_date'] = pd.to_datetime(df['ship_date'], format='%d/%m/%Y %H:%M:%S')\n",
    "\n",
    "# 5. Si la hora es irrelevante, puedes eliminarla extrayendo solo la parte de la fecha\n",
    "df['order_date'] = df['order_date'].dt.date\n",
    "df['ship_date'] = df['ship_date'].dt.date\n",
    "\n",
    "# 6. Extraer componentes de la fecha\n",
    "df['order_year'] = pd.DatetimeIndex(df['order_date']).year\n",
    "df['order_month'] = pd.DatetimeIndex(df['order_date']).month\n",
    "df['order_day'] = pd.DatetimeIndex(df['order_date']).day\n",
    "\n",
    "df['ship_year'] = pd.DatetimeIndex(df['ship_date']).year\n",
    "df['ship_month'] = pd.DatetimeIndex(df['ship_date']).month\n",
    "df['ship_day'] = pd.DatetimeIndex(df['ship_date']).day\n",
    "\n",
    "\n",
    "# 7. Verificación de resultados\n",
    "print(df)\n",
    "\n",
    "# Si necesitas guardar el archivo nuevamente como CSV\n",
    "# df.to_csv('ruta_al_archivo_normalizado.csv', index=False)\n"
   ]
  }
 ],
 "metadata": {
  "kernelspec": {
   "display_name": "Python 3",
   "language": "python",
   "name": "python3"
  },
  "language_info": {
   "codemirror_mode": {
    "name": "ipython",
    "version": 3
   },
   "file_extension": ".py",
   "mimetype": "text/x-python",
   "name": "python",
   "nbconvert_exporter": "python",
   "pygments_lexer": "ipython3",
   "version": "3.12.4"
  }
 },
 "nbformat": 4,
 "nbformat_minor": 2
}
